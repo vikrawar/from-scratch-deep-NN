{
 "cells": [
  {
   "cell_type": "markdown",
   "id": "intro",
   "metadata": {},
   "source": [
    "# Deep Neural Network from Scratch\n",
    "---\n",
    "#### In this notebook, we will extend our understanding of neural networks by building two different architectures: a shallow neural network and a deep neural network. <br> Both will have the same number of nodes/neurons. \n",
    "#### The goal is to highlight the power of deeper architectures in modeling complex relationships within data.\n",
    "---\n",
    "This notebook assumes you are familiar with logistic regression, basic neural network concepts, matrix multiplication, and Gradient Descent, which I discussed in earlier notebooks [Logistic Regression from Scratch](https://github.com/vikrawar/from-scratch-logistic-regression) and [2-Layer NN from Scratch](https://github.com/vikrawar/2-layer-nn-from-scratch)."
   ]
  },
  {
   "cell_type": "markdown",
   "id": "data_gen",
   "metadata": {},
   "source": [
    "## Generating Training Data\n",
    "\n",
    "To test our neural networks, we'll generate a synthetic dataset. This dataset will have 20 features for each training example and 1000 total examples. The labels will be binary (0 or 1), making it a binary classification problem.\n",
    "\n",
    "We'll represent our features `X` as a matrix where each column is a training example, and `Y` as a row vector of corresponding binary labels.\n",
    "\n",
    "X:\n",
    "$$ \\begin{bmatrix}\n",
    "\\vert & \\vert & \\vert & \\dots & \\vert \\\\\n",
    "x^{(1)} & x^{(2)} & x^{(3)} & \\dots & x^{(1000)} \\\\\n",
    "\\vert & \\vert & \\vert & \\dots & \\vert \\\\\n",
    "\\end{bmatrix} \\qquad $$\n",
    "\n",
    "Y: \n",
    "$$ \\begin{bmatrix} y^{(1)} & y^{(2)} & y^{(3)} & \\dots & y^{(1000)} \\end{bmatrix} $$\n",
    "\n",
    "Note on notation: <br>\n",
    "Don't get hung up on the notation and terminology. \n",
    "Some people prefer to have the training data stacked as rows. \n",
    "At the end of the day, it doesn't matter as long as the Matrix multiplications work out."
   ]
  },
  {
   "cell_type": "code",
   "execution_count": 1,
   "id": "78d0454d",
   "metadata": {},
   "outputs": [
    {
     "name": "stdout",
     "output_type": "stream",
     "text": [
      "Shape of X: (20, 1000)\n",
      "Shape of Y: (1, 1000)\n"
     ]
    }
   ],
   "source": [
    "import numpy as np\n",
    "import matplotlib.pyplot as plt\n",
    "\n",
    "np.random.seed(42)\n",
    "\n",
    "X = np.random.randn(20, 1000)\n",
    "Y = (np.random.rand(1, 1000) > 0.5).astype(float)\n",
    "\n",
    "print(f\"Shape of X: {X.shape}\")\n",
    "print(f\"Shape of Y: {Y.shape}\")"
   ]
  },
  {
   "cell_type": "markdown",
   "id": "activation_funcs",
   "metadata": {},
   "source": [
    "## Activation Functions\n",
    "\n",
    "Neural networks use activation functions to introduce non-linearity, allowing them to learn complex patterns.  <br>  \n",
    "We'll use **Sigmoid** for our output layer for binary classification.  \n",
    "We'll use **ReLU (Rectified Linear Unit)** as our activation function. The ReLU is the most popular activation function for neural networks, because it's computationally efficient. But more importantly, it adresses the shortcomings of the Sigmoid, namely, the problem of vanishing gradients. More about this in a later notebook\n",
    "\n",
    "**Sigmoid function:**\n",
    "$$ \\sigma(z) = \\frac{1}{1 + e^{-z}} $$\n",
    "\n",
    "**ReLU function:**\n",
    "$$ \\text{ReLU}(z) = \\max(0, z) $$\n",
    "\n",
    "We will also need their derivatives for the backpropagation step.\n",
    "\n",
    "**Derivative of Sigmoid:**\n",
    "$$ \\sigma'(a) = a(1-a) $$\n",
    "\n",
    "**Derivative of ReLU:**\n",
    "$$ \\text{ReLU}'(z) = \\begin{cases} 1 & \\text{if } z > 0 \\\\ 0 & \\text{if } z \\le 0 \\end{cases} $$"
   ]
  },
  {
   "cell_type": "code",
   "execution_count": 2,
   "id": "1cc8e360",
   "metadata": {},
   "outputs": [],
   "source": [
    "def sigmoid(Z):\n",
    "    return 1 / (1 + np.exp(-Z))\n",
    "\n",
    "def sigmoid_derivative(A):\n",
    "    return A * (1 - A)\n",
    "\n",
    "def relu(Z):\n",
    "    return np.maximum(0, Z)\n",
    "\n",
    "def relu_derivative(Z):\n",
    "    return (Z > 0).astype(float)"
   ]
  },
  {
   "cell_type": "markdown",
   "id": "init_params",
   "metadata": {},
   "source": [
    "## Initializing Weights and Biases\n",
    " \n",
    "With multiple layers, manually initializing weights and biases for each layer becomes cumbersome, specially so as we go deeper and deeper (SOTA NNs have ~100 layers!).  \n",
    "We'll write a helper function to initialize these parameters for our deep network.\n",
    "\n",
    "We'll store the weights and bias in a dictionary, accessible by `Wl` and `bl` where `l` is the layer number.\n",
    "\n",
    "Note: We are using He initialization for the weights. It's been shown to work well with the ReLU activation function. But that's not the focus of this particular notebook."
   ]
  },
  {
   "cell_type": "code",
   "execution_count": 3,
   "id": "cc7e6285",
   "metadata": {},
   "outputs": [],
   "source": [
    "def initialize_parameters(layer_dims):\n",
    "    \"\"\"\n",
    "    Initializes weights and biases for all layers in the network.\n",
    "    Arguments:\n",
    "    layer_dims -- python list containing the dimensions of each layer in our network\n",
    "    Returns:\n",
    "    parameters -- python dictionary containing your parameters \"W1\", \"b1\", ..., \"WL\", \"bL\":\n",
    "    \"\"\"\n",
    "    parameters = {}\n",
    "    L = len(layer_dims) # number of layers in the network\n",
    "\n",
    "    for l in range(1, L):\n",
    "        parameters[f\"W{l}\"] = np.random.randn(layer_dims[l], layer_dims[l-1]) * np.sqrt(1 / layer_dims[l-1])\n",
    "        parameters[f\"b{l}\"] = np.zeros((layer_dims[l], 1))\n",
    "\n",
    "    return parameters"
   ]
  },
  {
   "cell_type": "markdown",
   "id": "loss_cost",
   "metadata": {},
   "source": [
    "## Loss and Cost"
   ]
  },
  {
   "cell_type": "code",
   "execution_count": 4,
   "id": "32beba70-117e-4af8-880b-a43e09dc1979",
   "metadata": {},
   "outputs": [],
   "source": [
    "def loss(A, Y):\n",
    "    # A = predicted probabilities\n",
    "    # Y = true labels\n",
    "\n",
    "    # 1e-8 is added to prevent accidental calculation of log(0)\n",
    "    return -(Y*np.log(A+1e-8) + (1-Y)*np.log((1-A)+1e-8))\n",
    "\n",
    "def cost(loss): \n",
    "    return np.average(loss)"
   ]
  },
  {
   "cell_type": "markdown",
   "id": "nn_architectures",
   "metadata": {},
   "source": [
    "## Neural Network Architectures for Comparison\n",
    "\n",
    "We will now define and train two distinct neural network architectures to compare their performance. \n",
    "To give a fair chance to our shallow neural network, both will have the same number of nodes.\n",
    "\n",
    "1.  **Shallow Network (NN1)**:\n",
    "    * Input Layer: 20 nodes (matches `X.shape[0]`)\n",
    "    * Hidden Layer 1: 256 nodes\n",
    "    * Output Layer: 1 node (for binary classification)  <br>\n",
    "<br>\n",
    "2.  **Deep Network (NN2)**:\n",
    "    * Input Layer: 20 nodes\n",
    "    * Hidden Layer 1: 64 nodes\n",
    "    * Hidden Layer 2: 64 nodes\n",
    "    * Hidden Layer 3: 64 nodes\n",
    "    * Hidden Layer 4: 64 nodes\n",
    "    * Output Layer: 1 node"
   ]
  },
  {
   "cell_type": "markdown",
   "id": "training_nn1",
   "metadata": {},
   "source": [
    "### Training the Shallow Network (NN1): `[20, 256, 1]`"
   ]
  },
  {
   "cell_type": "code",
   "execution_count": 14,
   "id": "e4f6852d",
   "metadata": {},
   "outputs": [],
   "source": [
    "def train_nn1(X, Y, epochs, lr):\n",
    "    \n",
    "    # Initializing weights and bias\n",
    "    parameters = initialize_parameters([20, 256, 1])\n",
    "    W1, b1 = parameters['W1'], parameters['b1']\n",
    "    W2, b2 = parameters['W2'], parameters['b2']\n",
    "\n",
    "    costs = []\n",
    "\n",
    "    print(\"\\n--- Training Shallow Network (NN1) ---\")\n",
    "\n",
    "    for epoch in range(epochs):\n",
    "        \n",
    "        # Forward Pass\n",
    "        Z1 = W1 @ X + b1\n",
    "        A1 = relu(Z1)\n",
    "        Z2 = W2 @ A1 + b2\n",
    "        A2 = sigmoid(Z2)\n",
    "\n",
    "        # Backward Pass\n",
    "        m = Y.shape[1] # Number of examples\n",
    "        \n",
    "        # Gradients for Output Layer (Layer 2)\n",
    "        dZ2 = A2 - Y\n",
    "        dW2 = (dZ2 @ A1.T) / m\n",
    "        db2 = np.sum(dZ2, axis=1, keepdims=True) / m\n",
    "        \n",
    "        # Gradients for Hidden Layer (Layer 1)\n",
    "        dA1 = W2.T @ dZ2\n",
    "        dZ1 = dA1 * relu_derivative(Z1)\n",
    "        dW1 = (dZ1 @ X.T) / m\n",
    "        db1 = np.sum(dZ1, axis=1, keepdims=True) / m\n",
    "\n",
    "        # Update Parameters\n",
    "        W1 -= lr * dW1\n",
    "        b1 -= lr * db1\n",
    "        W2 -= lr * dW2\n",
    "        b2 -= lr * db2\n",
    "\n",
    "        # Tracking the cost\n",
    "        the_cost = cost(loss(A2, Y))\n",
    "        costs.append(the_cost)\n",
    "\n",
    "        if epoch % 100 == 0:\n",
    "            print(f\"Epoch {epoch}: Loss = {the_cost:.4f}\")\n",
    "\n",
    "    # Final prediction and accuracy\n",
    "    Z1 = W1 @ X + b1\n",
    "    A1 = relu(Z1)\n",
    "    Z2 = W2 @ A1 + b2\n",
    "    A2 = sigmoid(Z2)\n",
    "    \n",
    "    preds = (A2 > 0.5).astype(float)\n",
    "    accuracy = np.mean(preds == Y)\n",
    "    print(f\"Final Accuracy (Shallow NN1): {accuracy*100:.2f}%\")\n",
    "    \n",
    "    return costs"
   ]
  },
  {
   "cell_type": "code",
   "execution_count": 15,
   "id": "6daad250",
   "metadata": {},
   "outputs": [
    {
     "name": "stdout",
     "output_type": "stream",
     "text": [
      "\n",
      "--- Training Shallow Network (NN1) ---\n",
      "Epoch 0: Loss = 0.7401\n",
      "Epoch 100: Loss = 0.6449\n",
      "Epoch 200: Loss = 0.6146\n",
      "Epoch 300: Loss = 0.5880\n",
      "Epoch 400: Loss = 0.5625\n",
      "Epoch 500: Loss = 0.5377\n",
      "Epoch 600: Loss = 0.5133\n",
      "Epoch 700: Loss = 0.4890\n",
      "Epoch 800: Loss = 0.4644\n",
      "Epoch 900: Loss = 0.4394\n",
      "Epoch 1000: Loss = 0.4138\n",
      "Final Accuracy (Shallow NN1): 83.80%\n"
     ]
    }
   ],
   "source": [
    "# Train our shallow neural network\n",
    "costs_nn1 = train_nn1(X, Y, epochs=1001, lr=0.1)"
   ]
  },
  {
   "cell_type": "markdown",
   "id": "training_nn2",
   "metadata": {},
   "source": [
    "### Training the Deep Network (NN2): `[20, 64, 64, 64, 64, 1]`"
   ]
  },
  {
   "cell_type": "code",
   "execution_count": 16,
   "id": "a53eefc2",
   "metadata": {},
   "outputs": [],
   "source": [
    "def train_nn2(X, Y, epochs, lr):\n",
    "\n",
    "    # Initializing weights and bias\n",
    "    parameters = initialize_parameters([20, 64, 64, 64, 64, 1])\n",
    "    W1, b1 = parameters['W1'], parameters['b1']\n",
    "    W2, b2 = parameters['W2'], parameters['b2']\n",
    "    W3, b3 = parameters['W3'], parameters['b3']\n",
    "    W4, b4 = parameters['W4'], parameters['b4']\n",
    "    W5, b5 = parameters['W5'], parameters['b5']\n",
    "\n",
    "    costs = []\n",
    "\n",
    "    print(\"\\n--- Training Deep Network (NN2) ---\")\n",
    "\n",
    "    for epoch in range(epochs):\n",
    "        \n",
    "        # Forward Pass\n",
    "        Z1 = W1 @ X + b1\n",
    "        A1 = relu(Z1)\n",
    "        Z2 = W2 @ A1 + b2\n",
    "        A2 = relu(Z2)\n",
    "        Z3 = W3 @ A2 + b3\n",
    "        A3 = relu(Z3)\n",
    "        Z4 = W4 @ A3 + b4\n",
    "        A4 = relu(Z4)\n",
    "        Z5 = W5 @ A4 + b5\n",
    "        A5 = sigmoid(Z5)\n",
    "\n",
    "        # Backpropagation\n",
    "        m = Y.shape[1] # Number of examples\n",
    "\n",
    "        # Gradients for Output Layer (Layer 5)\n",
    "        dZ5 = A5 - Y\n",
    "        dW5 = (dZ5 @ A4.T) / m\n",
    "        db5 = np.sum(dZ5, axis=1, keepdims=True) / m\n",
    "\n",
    "        # Gradients for Layer 4\n",
    "        dA4 = W5.T @ dZ5\n",
    "        dZ4 = dA4 * relu_derivative(Z4)\n",
    "        dW4 = (dZ4 @ A3.T) / m\n",
    "        db4 = np.sum(dZ4, axis=1, keepdims=True) / m\n",
    "\n",
    "        # Gradients for Layer 3\n",
    "        dA3 = W4.T @ dZ4\n",
    "        dZ3 = dA3 * relu_derivative(Z3)\n",
    "        dW3 = (dZ3 @ A2.T) / m\n",
    "        db3 = np.sum(dZ3, axis=1, keepdims=True) / m\n",
    "\n",
    "        # Gradients for Layer 2\n",
    "        dA2 = W3.T @ dZ3\n",
    "        dZ2 = dA2 * relu_derivative(Z2)\n",
    "        dW2 = (dZ2 @ A1.T) / m\n",
    "        db2 = np.sum(dZ2, axis=1, keepdims=True) / m\n",
    "\n",
    "        # Gradients for Layer 1\n",
    "        dA1 = W2.T @ dZ2\n",
    "        dZ1 = dA1 * relu_derivative(Z1)\n",
    "        dW1 = (dZ1 @ X.T) / m\n",
    "        db1 = np.sum(dZ1, axis=1, keepdims=True) / m\n",
    "\n",
    "        # Gradient Descent\n",
    "        W1 -= lr * dW1\n",
    "        b1 -= lr * db1\n",
    "        W2 -= lr * dW2\n",
    "        b2 -= lr * db2\n",
    "        W3 -= lr * dW3\n",
    "        b3 -= lr * db3\n",
    "        W4 -= lr * dW4\n",
    "        b4 -= lr * db4\n",
    "        W5 -= lr * dW5\n",
    "        b5 -= lr * db5\n",
    "\n",
    "        # # Tracking the cost\n",
    "        the_cost = cost(loss(A5, Y))\n",
    "        costs.append(the_cost)\n",
    "\n",
    "        if epoch % 100 == 0:\n",
    "            print(f\"Epoch {epoch}: Loss = {the_cost:.4f}\")\n",
    "\n",
    "    # Final prediction and accuracy\n",
    "    Z1 = W1 @ X + b1\n",
    "    A1 = relu(Z1)\n",
    "    Z2 = W2 @ A1 + b2\n",
    "    A2 = relu(Z2)\n",
    "    Z3 = W3 @ A2 + b3\n",
    "    A3 = relu(Z3)\n",
    "    Z4 = W4 @ A3 + b4\n",
    "    A4 = relu(Z4)\n",
    "    Z5 = W5 @ A4 + b5\n",
    "    A5 = sigmoid(Z5)\n",
    "    \n",
    "    preds = (A5 > 0.5).astype(float)\n",
    "    accuracy = np.mean(preds == Y)\n",
    "    print(f\"Final Accuracy (Deep NN2): {accuracy*100:.2f}%\")\n",
    "    \n",
    "    return costs"
   ]
  },
  {
   "cell_type": "code",
   "execution_count": 17,
   "id": "f4f86501",
   "metadata": {},
   "outputs": [
    {
     "name": "stdout",
     "output_type": "stream",
     "text": [
      "\n",
      "--- Training Deep Network (NN2) ---\n",
      "Epoch 0: Loss = 0.7000\n",
      "Epoch 100: Loss = 0.6793\n",
      "Epoch 200: Loss = 0.6584\n",
      "Epoch 300: Loss = 0.6137\n",
      "Epoch 400: Loss = 0.5232\n",
      "Epoch 500: Loss = 0.4797\n",
      "Epoch 600: Loss = 0.2826\n",
      "Epoch 700: Loss = 0.1785\n",
      "Epoch 800: Loss = 0.1199\n",
      "Epoch 900: Loss = 0.0373\n",
      "Epoch 1000: Loss = 0.0169\n",
      "Final Accuracy (Deep NN2): 100.00%\n"
     ]
    }
   ],
   "source": [
    "# Training our deep neural network\n",
    "costs_nn2 = train_nn2(X, Y, epochs=1001, lr=0.1)"
   ]
  },
  {
   "cell_type": "markdown",
   "id": "plotting_costs",
   "metadata": {},
   "source": [
    "## Plotting the Cost\n",
    "\n",
    "Let's visualize how the cost changed over training iterations for both the shallow and deep neural networks. This will give us insight into their learning progress and convergence."
   ]
  },
  {
   "cell_type": "code",
   "execution_count": 18,
   "id": "d5dd4ae9",
   "metadata": {},
   "outputs": [
    {
     "data": {
      "image/png": "[encoded data removed]",
      "text/plain": [
       "<Figure size 1000x600 with 1 Axes>"
      ]
     },
     "metadata": {},
     "output_type": "display_data"
    }
   ],
   "source": [
    "plt.figure(figsize=(10, 6))\n",
    "plt.plot(costs_nn1, label='Shallow NN1 Cost')\n",
    "plt.plot(costs_nn2, label='Deep NN2 Cost', linestyle='--')\n",
    "plt.title('Cost Over Training Iterations (Shallow vs. Deep Network)')\n",
    "plt.xlabel('Epoch')\n",
    "plt.ylabel('Cost')\n",
    "plt.legend()\n",
    "plt.grid(True)\n",
    "plt.show()"
   ]
  },
  {
   "cell_type": "markdown",
   "id": "b7d4c137-c1da-4221-b948-fbbffb2fd4bb",
   "metadata": {},
   "source": [
    "Notice the erratic spikes in the deep network after ~500 epochs. With more layers comes more problems. Thankfully, researchers have found out ways past this. <br>\n",
    "But even without advanced tricks, our deep NN still manages to reach 100% accuracy, effectively memorizing the dataset."
   ]
  },
  {
   "cell_type": "markdown",
   "id": "wrap_up",
   "metadata": {},
   "source": [
    "## Wrap-Up\n",
    "\n",
    "In this notebook, we built and compared two neural network architectures from scratch using NumPy:\n",
    "-   A **shallow network** with one large hidden layer.\n",
    "-   A **deep network** with multiple smaller hidden layers.\n",
    "\n",
    "We observed firsthand that the deeper neural network is able to learn more complex and hierarchical representations of the data. This exercise demonstrates a core principle in deep learning: **depth matters**.\n",
    "\n",
    "This exercise gave us a glimpse of why deep neural networks have become ubiquitous.\n",
    "\n",
    "---\n",
    "\n",
    "Thanks for following along! 🎉  \n",
    "I hope this deep dive has further solidified your understanding of neural networks.\n",
    "If you found this helpful, consider ⭐️ the repo or sharing it with someone learning deep learning."
   ]
  },
  {
   "cell_type": "code",
   "execution_count": null,
   "id": "9eeb33ab-99e2-4213-b68e-29d5a2bfad66",
   "metadata": {},
   "outputs": [],
   "source": []
  }
 ],
 "metadata": {
  "kernelspec": {
   "display_name": "Python 3 (ipykernel)",
   "language": "python",
   "name": "python3"
  },
  "language_info": {
   "codemirror_mode": {
    "name": "ipython",
    "version": 3
   },
   "file_extension": ".py",
   "mimetype": "text/x-python",
   "name": "python",
   "nbconvert_exporter": "python",
   "pygments_lexer": "ipython3",
   "version": "3.10.14"
  }
 },
 "nbformat": 4,
 "nbformat_minor": 5
}
